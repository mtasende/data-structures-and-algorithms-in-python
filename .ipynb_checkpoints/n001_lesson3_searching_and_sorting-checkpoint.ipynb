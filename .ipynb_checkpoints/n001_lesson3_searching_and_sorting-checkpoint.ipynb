{
 "cells": [
  {
   "cell_type": "markdown",
   "metadata": {},
   "source": [
    "# Quiz 1"
   ]
  },
  {
   "cell_type": "code",
   "execution_count": 2,
   "metadata": {
    "collapsed": true
   },
   "outputs": [],
   "source": [
    "\"\"\"You're going to write a binary search function.\n",
    "You should use an iterative approach - meaning\n",
    "using loops.\n",
    "Your function should take two inputs:\n",
    "a Python list to search through, and the value\n",
    "you're searching for.\n",
    "Assume the list only has distinct elements,\n",
    "meaning there are no repeated values, and \n",
    "elements are in a strictly increasing order.\n",
    "Return the index of value, or -1 if the value\n",
    "doesn't exist in the list.\"\"\"\n",
    "\n",
    "pass"
   ]
  },
  {
   "cell_type": "code",
   "execution_count": 22,
   "metadata": {
    "collapsed": true
   },
   "outputs": [],
   "source": [
    "input_array = [1, 4, 6, 89, 197, 234, 567] + list(range(600, 1243, 5))"
   ]
  },
  {
   "cell_type": "code",
   "execution_count": 23,
   "metadata": {
    "collapsed": false
   },
   "outputs": [
    {
     "data": {
      "text/plain": [
       "136"
      ]
     },
     "execution_count": 23,
     "metadata": {},
     "output_type": "execute_result"
    }
   ],
   "source": [
    "len(input_array)"
   ]
  },
  {
   "cell_type": "code",
   "execution_count": 24,
   "metadata": {
    "collapsed": true
   },
   "outputs": [],
   "source": [
    "value = 1225"
   ]
  },
  {
   "cell_type": "code",
   "execution_count": 29,
   "metadata": {
    "collapsed": false
   },
   "outputs": [
    {
     "name": "stdout",
     "output_type": "stream",
     "text": [
      "Found 1225 in position 132, in 6 iterations.\n",
      "input_array[res] = 1225\n"
     ]
    }
   ],
   "source": [
    "a = 0\n",
    "b = len(input_array) - 1\n",
    "x = len(input_array) // 2\n",
    "\n",
    "res = -1\n",
    "it = 0\n",
    "while(x != a):\n",
    "    it += 1\n",
    "    if input_array[x] < value:\n",
    "        a = x\n",
    "    elif input_array[x] > value:\n",
    "        b = x\n",
    "    else:\n",
    "        res = x\n",
    "        break\n",
    "    x = (a + b) // 2\n",
    "\n",
    "print('Found {} in position {}, in {} iterations.'.format(value, res, it))\n",
    "print('input_array[res] = {}'.format(input_array[res]))"
   ]
  },
  {
   "cell_type": "code",
   "execution_count": 31,
   "metadata": {
    "collapsed": false
   },
   "outputs": [
    {
     "name": "stdout",
     "output_type": "stream",
     "text": [
      "-1\n",
      "4\n"
     ]
    }
   ],
   "source": [
    "def binary_search(input_array, value):\n",
    "    a = 0\n",
    "    b = len(input_array) - 1\n",
    "    x = len(input_array) // 2\n",
    "\n",
    "    while(x != a):\n",
    "        if input_array[x] < value:\n",
    "            a = x\n",
    "        elif input_array[x] > value:\n",
    "            b = x\n",
    "        else:\n",
    "            return x\n",
    "        x = (a + b) // 2\n",
    "    return -1\n",
    "\n",
    "test_list = [1,3,9,11,15,19,29]\n",
    "test_val1 = 25\n",
    "test_val2 = 15\n",
    "print(binary_search(test_list, test_val1))\n",
    "print(binary_search(test_list, test_val2))"
   ]
  },
  {
   "cell_type": "code",
   "execution_count": null,
   "metadata": {
    "collapsed": true
   },
   "outputs": [],
   "source": []
  }
 ],
 "metadata": {
  "kernelspec": {
   "display_name": "data",
   "language": "python",
   "name": "data"
  },
  "language_info": {
   "codemirror_mode": {
    "name": "ipython",
    "version": 3
   },
   "file_extension": ".py",
   "mimetype": "text/x-python",
   "name": "python",
   "nbconvert_exporter": "python",
   "pygments_lexer": "ipython3",
   "version": "3.6.2"
  }
 },
 "nbformat": 4,
 "nbformat_minor": 2
}
