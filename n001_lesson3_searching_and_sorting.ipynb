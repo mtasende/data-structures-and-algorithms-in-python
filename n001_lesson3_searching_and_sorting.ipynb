{
 "cells": [
  {
   "cell_type": "markdown",
   "metadata": {},
   "source": [
    "# Quiz 1"
   ]
  },
  {
   "cell_type": "code",
   "execution_count": 2,
   "metadata": {
    "collapsed": true
   },
   "outputs": [],
   "source": [
    "\"\"\"You're going to write a binary search function.\n",
    "You should use an iterative approach - meaning\n",
    "using loops.\n",
    "Your function should take two inputs:\n",
    "a Python list to search through, and the value\n",
    "you're searching for.\n",
    "Assume the list only has distinct elements,\n",
    "meaning there are no repeated values, and \n",
    "elements are in a strictly increasing order.\n",
    "Return the index of value, or -1 if the value\n",
    "doesn't exist in the list.\"\"\"\n",
    "\n",
    "pass"
   ]
  },
  {
   "cell_type": "code",
   "execution_count": 22,
   "metadata": {
    "collapsed": true
   },
   "outputs": [],
   "source": [
    "input_array = [1, 4, 6, 89, 197, 234, 567] + list(range(600, 1243, 5))"
   ]
  },
  {
   "cell_type": "code",
   "execution_count": 23,
   "metadata": {},
   "outputs": [
    {
     "data": {
      "text/plain": [
       "136"
      ]
     },
     "execution_count": 23,
     "metadata": {},
     "output_type": "execute_result"
    }
   ],
   "source": [
    "len(input_array)"
   ]
  },
  {
   "cell_type": "code",
   "execution_count": 24,
   "metadata": {
    "collapsed": true
   },
   "outputs": [],
   "source": [
    "value = 1225"
   ]
  },
  {
   "cell_type": "code",
   "execution_count": 29,
   "metadata": {},
   "outputs": [
    {
     "name": "stdout",
     "output_type": "stream",
     "text": [
      "Found 1225 in position 132, in 6 iterations.\n",
      "input_array[res] = 1225\n"
     ]
    }
   ],
   "source": [
    "a = 0\n",
    "b = len(input_array) - 1\n",
    "x = len(input_array) // 2\n",
    "\n",
    "res = -1\n",
    "it = 0\n",
    "while(x != a):\n",
    "    it += 1\n",
    "    if input_array[x] < value:\n",
    "        a = x\n",
    "    elif input_array[x] > value:\n",
    "        b = x\n",
    "    else:\n",
    "        res = x\n",
    "        break\n",
    "    x = (a + b) // 2\n",
    "\n",
    "print('Found {} in position {}, in {} iterations.'.format(value, res, it))\n",
    "print('input_array[res] = {}'.format(input_array[res]))"
   ]
  },
  {
   "cell_type": "code",
   "execution_count": 31,
   "metadata": {},
   "outputs": [
    {
     "name": "stdout",
     "output_type": "stream",
     "text": [
      "-1\n",
      "4\n"
     ]
    }
   ],
   "source": [
    "def binary_search(input_array, value):\n",
    "    a = 0\n",
    "    b = len(input_array) - 1\n",
    "    x = len(input_array) // 2\n",
    "\n",
    "    while(x != a):\n",
    "        if input_array[x] < value:\n",
    "            a = x\n",
    "        elif input_array[x] > value:\n",
    "            b = x\n",
    "        else:\n",
    "            return x\n",
    "        x = (a + b) // 2\n",
    "    return -1\n",
    "\n",
    "test_list = [1,3,9,11,15,19,29]\n",
    "test_val1 = 25\n",
    "test_val2 = 15\n",
    "print(binary_search(test_list, test_val1))\n",
    "print(binary_search(test_list, test_val2))"
   ]
  },
  {
   "cell_type": "markdown",
   "metadata": {
    "collapsed": true
   },
   "source": [
    "# Quiz 2"
   ]
  },
  {
   "cell_type": "code",
   "execution_count": 1,
   "metadata": {},
   "outputs": [],
   "source": [
    "\"\"\"Implement a function recursively to get the desired\n",
    "Fibonacci sequence value.\n",
    "Your code should have the same input/output as the \n",
    "iterative code in the instructions.\"\"\"\n",
    "pass"
   ]
  },
  {
   "cell_type": "code",
   "execution_count": 5,
   "metadata": {},
   "outputs": [],
   "source": [
    "def get_fib(position):\n",
    "    if position <= 0:\n",
    "        return 0\n",
    "    elif position == 1:\n",
    "        return 1\n",
    "    else:\n",
    "        return get_fib(position - 1) + get_fib(position - 2)"
   ]
  },
  {
   "cell_type": "code",
   "execution_count": 6,
   "metadata": {},
   "outputs": [
    {
     "name": "stdout",
     "output_type": "stream",
     "text": [
      "34\n",
      "89\n",
      "0\n"
     ]
    }
   ],
   "source": [
    "# Test cases\n",
    "print(get_fib(9))\n",
    "print(get_fib(11))\n",
    "print(get_fib(0))"
   ]
  },
  {
   "cell_type": "markdown",
   "metadata": {},
   "source": [
    "# Bubble Sort"
   ]
  },
  {
   "cell_type": "markdown",
   "metadata": {},
   "source": [
    "The highest valued element \"bubbles\" up to the top.\n",
    "\n",
    "The efficiency is:\n",
    " - Worst case: $O(n^2)$\n",
    " - Average case: $O(n^2)$\n",
    " - Best case: $O(n)$\n",
    " \n",
    "\"In-place\" sorting algorithm (Space = $O(1)$)"
   ]
  },
  {
   "cell_type": "markdown",
   "metadata": {},
   "source": [
    "# Merge Sort"
   ]
  },
  {
   "cell_type": "markdown",
   "metadata": {},
   "source": [
    "Divides the array in chunks of 1 or 2 elements. Sorts the chunks and then \"merges\" them comparing their elements, as many times as needed to recover the sorted array.\n",
    "\n",
    "\n",
    "The efficiency is:\n",
    " - $O(n \\cdot log(n))$\n",
    "\n",
    "Auxiliary Space = $O(n)$"
   ]
  },
  {
   "cell_type": "markdown",
   "metadata": {},
   "source": [
    "# Quick Sort"
   ]
  },
  {
   "cell_type": "markdown",
   "metadata": {},
   "source": [
    "Efficiency:\n",
    "\n",
    " - Worst: $O(n^2)$\n",
    " - Average: $O(n \\cdot log(n))$\n",
    " - Best: $O(n \\cdot log(n))$\n",
    " \n",
    " Some optimization can be made to make it run faster: starting from both ends, selecting the median of the last few elements as pivot.\n",
    " \n",
    " Space complexity: $O(1)$  (in-place)"
   ]
  },
  {
   "cell_type": "code",
   "execution_count": 11,
   "metadata": {},
   "outputs": [],
   "source": [
    "\"\"\"Implement quick sort in Python.\n",
    "Input a list.\n",
    "Output a sorted list.\"\"\"\n",
    "import numpy as np"
   ]
  },
  {
   "cell_type": "code",
   "execution_count": 45,
   "metadata": {},
   "outputs": [
    {
     "data": {
      "text/plain": [
       "[72, 31, 37, 88, 62, 24, 29, 15, 12, 16]"
      ]
     },
     "execution_count": 45,
     "metadata": {},
     "output_type": "execute_result"
    }
   ],
   "source": [
    "np.random.seed(2019)\n",
    "array = np.random.randint(0, 100, 10).tolist()\n",
    "array"
   ]
  },
  {
   "cell_type": "code",
   "execution_count": 46,
   "metadata": {},
   "outputs": [],
   "source": [
    "def swap(idx, pivot_idx, array):\n",
    "    \"\"\"\n",
    "    Send the value in position idx to position pivot_idx.\n",
    "    The value in position pivot_idx goes to position_idx - 1.\n",
    "    The value in position_idx - 1 goes to idx.\n",
    "    \"\"\"\n",
    "    temp_greater = array[idx]\n",
    "    array[idx] = array[pivot_idx - 1]\n",
    "    array[pivot_idx - 1] = array[pivot_idx]\n",
    "    array[pivot_idx] = temp_greater"
   ]
  },
  {
   "cell_type": "code",
   "execution_count": 47,
   "metadata": {},
   "outputs": [
    {
     "data": {
      "text/plain": [
       "[72, 31, 12, 88, 62, 24, 29, 15, 16, 37]"
      ]
     },
     "execution_count": 47,
     "metadata": {},
     "output_type": "execute_result"
    }
   ],
   "source": [
    "swap(2, -1, array)\n",
    "array"
   ]
  },
  {
   "cell_type": "code",
   "execution_count": 71,
   "metadata": {},
   "outputs": [],
   "source": [
    "def quicksort(array):\n",
    "    if len(array) <= 1:\n",
    "        return array\n",
    "    pivot_idx = len(array) - 1\n",
    "    i = 0\n",
    "    while i < pivot_idx:\n",
    "        if array[i] > array[pivot_idx]:\n",
    "            swap(i, pivot_idx, array)\n",
    "            pivot_idx -= 1\n",
    "        else:\n",
    "            i += 1\n",
    "    array[:pivot_idx] = quicksort(array[:pivot_idx])\n",
    "    array[pivot_idx + 1:] = quicksort(array[pivot_idx + 1:])\n",
    "    \n",
    "    return array"
   ]
  },
  {
   "cell_type": "markdown",
   "metadata": {},
   "source": [
    "### Test it"
   ]
  },
  {
   "cell_type": "code",
   "execution_count": 62,
   "metadata": {},
   "outputs": [
    {
     "name": "stdout",
     "output_type": "stream",
     "text": [
      "[1, 3, 4, 6, 9, 14, 20, 21, 21, 25]\n"
     ]
    }
   ],
   "source": [
    "test = [21, 4, 1, 3, 9, 20, 25, 6, 21, 14]\n",
    "print(quicksort(test))"
   ]
  },
  {
   "cell_type": "code",
   "execution_count": 65,
   "metadata": {},
   "outputs": [
    {
     "name": "stdout",
     "output_type": "stream",
     "text": [
      "[72, 31, 37, 88, 62, 24, 29, 15, 12, 16, 48, 71, 83, 12, 80, 50, 95, 5, 24, 28, 21, 48, 91, 15, 65, 54, 10, 96, 11, 82]\n"
     ]
    }
   ],
   "source": [
    "np.random.seed(2019)\n",
    "array = np.random.randint(0, 100, 30).tolist()\n",
    "print(array)"
   ]
  },
  {
   "cell_type": "code",
   "execution_count": 66,
   "metadata": {},
   "outputs": [
    {
     "name": "stdout",
     "output_type": "stream",
     "text": [
      "[5, 10, 11, 12, 12, 15, 15, 16, 21, 24, 24, 28, 29, 31, 37, 48, 48, 50, 54, 62, 65, 71, 72, 80, 82, 83, 88, 91, 95, 96]\n"
     ]
    }
   ],
   "source": [
    "print(quicksort(array))"
   ]
  },
  {
   "cell_type": "code",
   "execution_count": 70,
   "metadata": {},
   "outputs": [],
   "source": [
    "np.random.seed(2019)\n",
    "array = np.random.randint(0, 100, 30).tolist()\n",
    "u = sorted(array)\n",
    "\n",
    "np.random.seed(2019)\n",
    "array = np.random.randint(0, 100, 30).tolist()\n",
    "assert quicksort(array) == u"
   ]
  },
  {
   "cell_type": "code",
   "execution_count": null,
   "metadata": {},
   "outputs": [],
   "source": []
  }
 ],
 "metadata": {
  "kernelspec": {
   "display_name": "data",
   "language": "python",
   "name": "data"
  },
  "language_info": {
   "codemirror_mode": {
    "name": "ipython",
    "version": 3
   },
   "file_extension": ".py",
   "mimetype": "text/x-python",
   "name": "python",
   "nbconvert_exporter": "python",
   "pygments_lexer": "ipython3",
   "version": "3.6.5"
  }
 },
 "nbformat": 4,
 "nbformat_minor": 2
}
