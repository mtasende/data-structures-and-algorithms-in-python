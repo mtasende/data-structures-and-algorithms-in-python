{
 "cells": [
  {
   "cell_type": "markdown",
   "metadata": {},
   "source": [
    "Trees should be totally connected and have no cycles (regardles of \"arrow orientation\"; that is: children are only allowed one parent).\n",
    "\n",
    "The height of a node is the number of \"hops\" needed to get to the farthest leaf. The height of the tree is the height of the root.\n",
    "\n",
    "The depth of a node is the number of \"hops\" needed to get to the root. The depth of the tree is the depth of the deepest leaf."
   ]
  },
  {
   "cell_type": "markdown",
   "metadata": {},
   "source": [
    "DFS traversals:\n",
    " - Pre-order traversal: visit the node before its children\n",
    " - In-order traversal: visit the node after visiting the left child\n",
    " - Post-order traversal: visit the node after all its children"
   ]
  },
  {
   "cell_type": "markdown",
   "metadata": {},
   "source": [
    "# Quiz 1"
   ]
  },
  {
   "cell_type": "code",
   "execution_count": 2,
   "metadata": {},
   "outputs": [],
   "source": [
    "class Node(object):\n",
    "    def __init__(self, value):\n",
    "        self.value = value\n",
    "        self.left = None\n",
    "        self.right = None"
   ]
  },
  {
   "cell_type": "code",
   "execution_count": 13,
   "metadata": {},
   "outputs": [],
   "source": [
    "class BinaryTree(object):\n",
    "    def __init__(self, root):\n",
    "        self.root = Node(root)\n",
    "\n",
    "    def search(self, find_val):\n",
    "        \"\"\"Return True if the value\n",
    "        is in the tree, return\n",
    "        False otherwise.\"\"\"\n",
    "        return self.preorder_search(self.root, find_val)\n",
    "\n",
    "    def print_tree(self):\n",
    "        \"\"\"Print out all tree nodes\n",
    "        as they are visited in\n",
    "        a pre-order traversal.\"\"\"\n",
    "        return \"-\".join(self.preorder_print(self.root, list()))\n",
    "\n",
    "    def preorder_search(self, start, find_val):\n",
    "        \"\"\"Helper method - use this to create a \n",
    "        recursive search solution.\"\"\"\n",
    "        if start.value == find_val:\n",
    "            return True\n",
    "        if (start.left is not None) and self.preorder_search(start.left, find_val):\n",
    "            return True\n",
    "        if (start.right is not None) and self.preorder_search(start.right, find_val):\n",
    "            return True    \n",
    "        \n",
    "        return False\n",
    "\n",
    "    def preorder_print(self, start, traversal):\n",
    "        \"\"\"Helper method - use this to create a \n",
    "        recursive print solution.\"\"\"\n",
    "        traversal.append(str(start.value))\n",
    "        if (start.left is not None):\n",
    "            self.preorder_print(start.left, traversal)\n",
    "        if (start.right is not None):\n",
    "            self.preorder_print(start.right, traversal)\n",
    "\n",
    "        return traversal"
   ]
  },
  {
   "cell_type": "code",
   "execution_count": 14,
   "metadata": {},
   "outputs": [
    {
     "name": "stdout",
     "output_type": "stream",
     "text": [
      "True\n",
      "False\n",
      "1-2-4-5-3\n"
     ]
    }
   ],
   "source": [
    "# Set up tree\n",
    "tree = BinaryTree(1)\n",
    "tree.root.left = Node(2)\n",
    "tree.root.right = Node(3)\n",
    "tree.root.left.left = Node(4)\n",
    "tree.root.left.right = Node(5)\n",
    "\n",
    "# Test search\n",
    "# Should be True\n",
    "print tree.search(4)\n",
    "# Should be False\n",
    "print tree.search(6)\n",
    "\n",
    "# Test print_tree\n",
    "# Should be 1-2-4-5-3\n",
    "print tree.print_tree()"
   ]
  },
  {
   "cell_type": "markdown",
   "metadata": {},
   "source": [
    "Binary Search Trees have the values sorted, so that higher values are always \"at the right\". Searching can be done in $O(log(n))$."
   ]
  },
  {
   "cell_type": "markdown",
   "metadata": {},
   "source": [
    "Unbalanced trees can take the efficiency down to $O(n)$ in the worst case"
   ]
  },
  {
   "cell_type": "markdown",
   "metadata": {},
   "source": [
    "# Quiz 2"
   ]
  },
  {
   "cell_type": "code",
   "execution_count": 16,
   "metadata": {},
   "outputs": [],
   "source": [
    "class Node(object):\n",
    "    def __init__(self, value):\n",
    "        self.value = value\n",
    "        self.left = None\n",
    "        self.right = None"
   ]
  },
  {
   "cell_type": "code",
   "execution_count": 29,
   "metadata": {},
   "outputs": [],
   "source": [
    "class BST(object):\n",
    "    def __init__(self, root):\n",
    "        self.root = Node(root)\n",
    "\n",
    "    def insert(self, new_val):\n",
    "        self.val_insert(self.root, new_val)\n",
    "\n",
    "    def search(self, find_val):\n",
    "        return self.val_search(self.root, find_val)\n",
    "    \n",
    "    def val_insert(self, start, new_val):\n",
    "        if start is None:\n",
    "            start = Node(new_val)\n",
    "            return\n",
    "        if new_val >= start.value:\n",
    "            self.val_insert(start.right, new_val)\n",
    "        else:\n",
    "            self.val_insert(start.left, new_val)\n",
    "    \n",
    "    def val_search(self, start, find_val):\n",
    "        if start is None:\n",
    "            return False\n",
    "        if find_val == start.value:\n",
    "            return True\n",
    "        if find_val > start.value:\n",
    "            return self.val_search(start.right, find_val)\n",
    "        else:\n",
    "            return self.val_search(start.left, find_val)"
   ]
  },
  {
   "cell_type": "code",
   "execution_count": 30,
   "metadata": {},
   "outputs": [
    {
     "name": "stdout",
     "output_type": "stream",
     "text": [
      "True\n",
      "False\n"
     ]
    }
   ],
   "source": [
    "# Set up tree\n",
    "tree = BST(4)\n",
    "\n",
    "# Insert elements\n",
    "tree.insert(2)\n",
    "tree.insert(1)\n",
    "tree.insert(3)\n",
    "tree.insert(5)\n",
    "\n",
    "# Check search\n",
    "# Should be True\n",
    "print tree.search(4)\n",
    "# Should be False\n",
    "print tree.search(6)"
   ]
  },
  {
   "cell_type": "markdown",
   "metadata": {},
   "source": [
    "Heaps implement a partial order. An element can be inserted in the first \"open\" place and then \"heapify\" (compare to all its predecessors and swap if needed)."
   ]
  },
  {
   "cell_type": "markdown",
   "metadata": {},
   "source": [
    "Self-balancing trees: tries to minimize its number of levels.\n",
    "\n",
    "Example: Red-Black tree"
   ]
  },
  {
   "cell_type": "code",
   "execution_count": null,
   "metadata": {},
   "outputs": [],
   "source": []
  }
 ],
 "metadata": {
  "kernelspec": {
   "display_name": "python2",
   "language": "python",
   "name": "python2"
  },
  "language_info": {
   "codemirror_mode": {
    "name": "ipython",
    "version": 2
   },
   "file_extension": ".py",
   "mimetype": "text/x-python",
   "name": "python",
   "nbconvert_exporter": "python",
   "pygments_lexer": "ipython2",
   "version": "2.7.14"
  }
 },
 "nbformat": 4,
 "nbformat_minor": 2
}
